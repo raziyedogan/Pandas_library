{
 "cells": [
  {
   "cell_type": "markdown",
   "id": "a4ee7f29",
   "metadata": {},
   "source": [
    "# Pandas Kütüphanesi Nedir?\n",
    "\n",
    "Pandas, ham verileri daha değerli bir yapıya dönüştürmek için faydalar sağlayan bir Python kütüphanesidir.\n",
    "\n",
    "Pandas, Numpy'ın üzerine kurulmuştur ve veri analizi için sezgisel işlevler sağlayarak Numpy'ı genişletir.\n",
    "\n",
    "Öncelikle pandas kütüphanesinden faydalanabilmek için kütüphaneyi çağırmalıyız."
   ]
  },
  {
   "cell_type": "code",
   "execution_count": 1,
   "id": "a99fe043",
   "metadata": {},
   "outputs": [],
   "source": [
    "import pandas as pd"
   ]
  },
  {
   "cell_type": "markdown",
   "id": "593c8bc8",
   "metadata": {},
   "source": [
    "Şimdi pandas sürümünü ve yapılandırmasını görelim."
   ]
  },
  {
   "cell_type": "code",
   "execution_count": 2,
   "id": "5df07b62",
   "metadata": {},
   "outputs": [
    {
     "data": {
      "text/plain": [
       "'1.4.3'"
      ]
     },
     "execution_count": 2,
     "metadata": {},
     "output_type": "execute_result"
    }
   ],
   "source": [
    "pd.__version__"
   ]
  },
  {
   "cell_type": "markdown",
   "id": "8f9e3652",
   "metadata": {},
   "source": [
    "# Pandas Veri Yapıları\n",
    "\n",
    "Pandas kütüphanesinde en çok kullanılan iki temel veri yapısı, Seriler (Series) ve Veri Çerçeveleridir (DataFrame).\n",
    "\n",
    "## Seriler ve Veri Çerçeveleri\n",
    "\n",
    "Bir Seri, indekslenebilir bir tek sütunlu dizidir. Bir Veri Çerçevesi 2 boyutlu, SQL tablosu benzeri bir veri yapısıdır. Ve Veri Çerçeveleri, Seri tipinde olan farklı sütun türlerine sahip olurlar. Veri Çerçeveleri, Pandas kütüphanesinde en sık kullanılan veri nesnesidir.\n",
    "\n",
    "Şimdi 5 elemanlı bir <b> Seri </b> oluşturalım."
   ]
  },
  {
   "cell_type": "code",
   "execution_count": 3,
   "id": "afc9b303",
   "metadata": {},
   "outputs": [],
   "source": [
    "s = pd.Series(['i','s','t',44,True])"
   ]
  },
  {
   "cell_type": "code",
   "execution_count": 4,
   "id": "c102a43c",
   "metadata": {},
   "outputs": [
    {
     "data": {
      "text/plain": [
       "0       i\n",
       "1       s\n",
       "2       t\n",
       "3      44\n",
       "4    True\n",
       "dtype: object"
      ]
     },
     "execution_count": 4,
     "metadata": {},
     "output_type": "execute_result"
    }
   ],
   "source": [
    "s"
   ]
  },
  {
   "cell_type": "markdown",
   "id": "4294599a",
   "metadata": {},
   "source": [
    "Yukarıda görüldüğü üzere pd.Series fonksiyonu ile bir Seri nesnesi oluşturulmuştur. Çıktıda görüldüğü üzere Seri nesnesi birden fazla veri tipini içeriyor ama Numpy dizileri buna izin vermemektedir.\n",
    "\n",
    "Bu yapıyı gerçek hayat problemlerinde sıklıkla kullanmayız. Çünkü gerçek hayat problemlerinde birden fazla sütunlu veriler oluyor ve bu yapı bunun için uygun değildir. Dolayısıyla bu yapıyı temel almış <b> Veri Çerçeveleri </b> yapısını kullanacağız."
   ]
  },
  {
   "cell_type": "markdown",
   "id": "877877fa",
   "metadata": {},
   "source": [
    "Şimdi Veri Çerçevesinin sütun isimlerini bir listede depolayalım."
   ]
  },
  {
   "cell_type": "code",
   "execution_count": 5,
   "id": "9f19b2b9",
   "metadata": {},
   "outputs": [],
   "source": [
    "column_names = [\"tek_sayilar\",\"cift_sayilar\"]"
   ]
  },
  {
   "cell_type": "markdown",
   "id": "55b79cd4",
   "metadata": {},
   "source": [
    "Veri çerçevesinin değerlerini depolayacağımız bir iç içe liste oluşturalım."
   ]
  },
  {
   "cell_type": "code",
   "execution_count": 6,
   "id": "a8c0a0ae",
   "metadata": {},
   "outputs": [],
   "source": [
    "data = [[1,2],[3,4],[5,6]]"
   ]
  },
  {
   "cell_type": "markdown",
   "id": "6b9ffd1d",
   "metadata": {},
   "source": [
    "column_names ve data değişkenlerini kullanarak df isimli bir Veri Çerçevesi oluşturalım."
   ]
  },
  {
   "cell_type": "code",
   "execution_count": 7,
   "id": "5a4a57fc",
   "metadata": {},
   "outputs": [],
   "source": [
    "df = pd.DataFrame(data, columns=column_names)"
   ]
  },
  {
   "cell_type": "code",
   "execution_count": 8,
   "id": "167e3f87",
   "metadata": {},
   "outputs": [
    {
     "data": {
      "text/html": [
       "<div>\n",
       "<style scoped>\n",
       "    .dataframe tbody tr th:only-of-type {\n",
       "        vertical-align: middle;\n",
       "    }\n",
       "\n",
       "    .dataframe tbody tr th {\n",
       "        vertical-align: top;\n",
       "    }\n",
       "\n",
       "    .dataframe thead th {\n",
       "        text-align: right;\n",
       "    }\n",
       "</style>\n",
       "<table border=\"1\" class=\"dataframe\">\n",
       "  <thead>\n",
       "    <tr style=\"text-align: right;\">\n",
       "      <th></th>\n",
       "      <th>tek_sayilar</th>\n",
       "      <th>cift_sayilar</th>\n",
       "    </tr>\n",
       "  </thead>\n",
       "  <tbody>\n",
       "    <tr>\n",
       "      <th>0</th>\n",
       "      <td>1</td>\n",
       "      <td>2</td>\n",
       "    </tr>\n",
       "    <tr>\n",
       "      <th>1</th>\n",
       "      <td>3</td>\n",
       "      <td>4</td>\n",
       "    </tr>\n",
       "    <tr>\n",
       "      <th>2</th>\n",
       "      <td>5</td>\n",
       "      <td>6</td>\n",
       "    </tr>\n",
       "  </tbody>\n",
       "</table>\n",
       "</div>"
      ],
      "text/plain": [
       "   tek_sayilar  cift_sayilar\n",
       "0            1             2\n",
       "1            3             4\n",
       "2            5             6"
      ]
     },
     "execution_count": 8,
     "metadata": {},
     "output_type": "execute_result"
    }
   ],
   "source": [
    "df"
   ]
  },
  {
   "cell_type": "markdown",
   "id": "fe71b33c",
   "metadata": {},
   "source": [
    "Yukarıda görüldüğü üzere pd.DataFrame fonksiyonu ile bir Veri Çerçevesi nesnesi oluşturulmuştur. Ve dikkat edileceği üzere, Veri çerçevesi birden fazla sütun oluşturulmasına izin vermektedir.\n",
    "\n",
    "# Pandas Veri Çerçeveleri Oluşturma\n",
    "\n",
    "Pandas veri çerçeveleri oluşturmak için sıklıkla kullanılan 2 yol vardır. \n",
    "    \n",
    "    1.yol Numpy kütüphanesine ait fonksiyonlar kullanılarak oluşturulan dizinin Pandas fonksiyonları ile kullanılmasıdır.\n",
    "    \n",
    "    2.yol Python dilinin sağlamış olduğu sözlük (dictionary) veri yapısını Pandas fonksiyonlarında kullanmaktır.\n",
    "    \n",
    "## Numpy Dizilerinden Pandas Veri Çerçevesi Oluşturma\n",
    "\n",
    "Veri çerçevesinin değerlerinin yer alacağı veri isimli bir Numpy dizisi oluşturalım."
   ]
  },
  {
   "cell_type": "code",
   "execution_count": 10,
   "id": "cd570d4a",
   "metadata": {},
   "outputs": [],
   "source": [
    "import numpy as np"
   ]
  },
  {
   "cell_type": "code",
   "execution_count": 11,
   "id": "e0db15d9",
   "metadata": {},
   "outputs": [],
   "source": [
    "veri = np.array([[1,2],[3,4],[5,6]])"
   ]
  },
  {
   "cell_type": "markdown",
   "id": "8dcb7b92",
   "metadata": {},
   "source": [
    "Veri Çerçevesinin sütun isimlerini depolayacağımız sutun_isimleri isimli bir liste oluşturalım."
   ]
  },
  {
   "cell_type": "code",
   "execution_count": 12,
   "id": "827613f3",
   "metadata": {},
   "outputs": [],
   "source": [
    "sutun_isimleri = [\"birinci_sutun\",\"ikinci_sutun\"]"
   ]
  },
  {
   "cell_type": "markdown",
   "id": "6107c3b9",
   "metadata": {},
   "source": [
    "veri ve sutun_isimleri değişkenlerini kullanarak Veri Çerçevesi oluşturalım."
   ]
  },
  {
   "cell_type": "code",
   "execution_count": 13,
   "id": "ed5be169",
   "metadata": {},
   "outputs": [],
   "source": [
    "df = pd.DataFrame(veri,columns=sutun_isimleri)"
   ]
  },
  {
   "cell_type": "code",
   "execution_count": 14,
   "id": "5c8b87be",
   "metadata": {},
   "outputs": [
    {
     "data": {
      "text/html": [
       "<div>\n",
       "<style scoped>\n",
       "    .dataframe tbody tr th:only-of-type {\n",
       "        vertical-align: middle;\n",
       "    }\n",
       "\n",
       "    .dataframe tbody tr th {\n",
       "        vertical-align: top;\n",
       "    }\n",
       "\n",
       "    .dataframe thead th {\n",
       "        text-align: right;\n",
       "    }\n",
       "</style>\n",
       "<table border=\"1\" class=\"dataframe\">\n",
       "  <thead>\n",
       "    <tr style=\"text-align: right;\">\n",
       "      <th></th>\n",
       "      <th>birinci_sutun</th>\n",
       "      <th>ikinci_sutun</th>\n",
       "    </tr>\n",
       "  </thead>\n",
       "  <tbody>\n",
       "    <tr>\n",
       "      <th>0</th>\n",
       "      <td>1</td>\n",
       "      <td>2</td>\n",
       "    </tr>\n",
       "    <tr>\n",
       "      <th>1</th>\n",
       "      <td>3</td>\n",
       "      <td>4</td>\n",
       "    </tr>\n",
       "    <tr>\n",
       "      <th>2</th>\n",
       "      <td>5</td>\n",
       "      <td>6</td>\n",
       "    </tr>\n",
       "  </tbody>\n",
       "</table>\n",
       "</div>"
      ],
      "text/plain": [
       "   birinci_sutun  ikinci_sutun\n",
       "0              1             2\n",
       "1              3             4\n",
       "2              5             6"
      ]
     },
     "execution_count": 14,
     "metadata": {},
     "output_type": "execute_result"
    }
   ],
   "source": [
    "df"
   ]
  },
  {
   "cell_type": "markdown",
   "id": "66722732",
   "metadata": {},
   "source": [
    "Yapılan işlemler özetlenecek olursa, ilk olarak np.array fonksiyonundan bir dizi oluşturdum. Sonrasında bu oluşturduğum diziye sütun isimleri belirledim. Son olarak bu nesneleri pd.DataFrame fonksiyonunda çağırıp Pandas Veri Çerçevesi oluşturdum.\n",
    "\n",
    "## Sözlük (Dictionary) Yapılarından Pandas Veri Çerçevesi Oluşturma\n",
    "\n",
    "Veri çerçevesinin değerlerinin yer aldığı veri isimli bir sözlük yapısı oluşturalım. Burada dikkat edilmesi gereken nokta, sözlük yapısında yer alan anahtar değerler, Pandas Veri Çerçevesinde <b>sütun</b> ismi olur."
   ]
  },
  {
   "cell_type": "code",
   "execution_count": 15,
   "id": "c0574528",
   "metadata": {},
   "outputs": [],
   "source": [
    "veri = {\"birinci_sutun\":[1,3,5],\"ikinci_sutun\":[2,4,6]}"
   ]
  },
  {
   "cell_type": "markdown",
   "id": "0c77a016",
   "metadata": {},
   "source": [
    "Bir sözlük yapısı olan veri isimli değişkeni kullanarak bir Veir Çerçevesi oluşturalım."
   ]
  },
  {
   "cell_type": "code",
   "execution_count": 16,
   "id": "94cb4d53",
   "metadata": {},
   "outputs": [],
   "source": [
    "df = pd.DataFrame(veri)"
   ]
  },
  {
   "cell_type": "code",
   "execution_count": 17,
   "id": "f0beb666",
   "metadata": {},
   "outputs": [
    {
     "data": {
      "text/html": [
       "<div>\n",
       "<style scoped>\n",
       "    .dataframe tbody tr th:only-of-type {\n",
       "        vertical-align: middle;\n",
       "    }\n",
       "\n",
       "    .dataframe tbody tr th {\n",
       "        vertical-align: top;\n",
       "    }\n",
       "\n",
       "    .dataframe thead th {\n",
       "        text-align: right;\n",
       "    }\n",
       "</style>\n",
       "<table border=\"1\" class=\"dataframe\">\n",
       "  <thead>\n",
       "    <tr style=\"text-align: right;\">\n",
       "      <th></th>\n",
       "      <th>birinci_sutun</th>\n",
       "      <th>ikinci_sutun</th>\n",
       "    </tr>\n",
       "  </thead>\n",
       "  <tbody>\n",
       "    <tr>\n",
       "      <th>0</th>\n",
       "      <td>1</td>\n",
       "      <td>2</td>\n",
       "    </tr>\n",
       "    <tr>\n",
       "      <th>1</th>\n",
       "      <td>3</td>\n",
       "      <td>4</td>\n",
       "    </tr>\n",
       "    <tr>\n",
       "      <th>2</th>\n",
       "      <td>5</td>\n",
       "      <td>6</td>\n",
       "    </tr>\n",
       "  </tbody>\n",
       "</table>\n",
       "</div>"
      ],
      "text/plain": [
       "   birinci_sutun  ikinci_sutun\n",
       "0              1             2\n",
       "1              3             4\n",
       "2              5             6"
      ]
     },
     "execution_count": 17,
     "metadata": {},
     "output_type": "execute_result"
    }
   ],
   "source": [
    "df"
   ]
  },
  {
   "cell_type": "markdown",
   "id": "86a5dbaa",
   "metadata": {},
   "source": [
    "Yapılan işlemleri özetlemek gerekirse, ilk olarak bir sözlük yapısı oluşturdum. Ayrıyeten dütun isimlerini depoladığımız bir nesne oluşturmadık. Çünkü Pandas sözlük yapısındaki anahtar kelimeleri sütun ismi olarak almaktadır. pd.DataFrame fonksiyonuna parametre olarka oluşturduğumuz sözlük yapısını vererek kolaylıkla bir Veri Çerçevesi oluşturabilmemiz mümkündür."
   ]
  }
 ],
 "metadata": {
  "kernelspec": {
   "display_name": "Python 3 (ipykernel)",
   "language": "python",
   "name": "python3"
  },
  "language_info": {
   "codemirror_mode": {
    "name": "ipython",
    "version": 3
   },
   "file_extension": ".py",
   "mimetype": "text/x-python",
   "name": "python",
   "nbconvert_exporter": "python",
   "pygments_lexer": "ipython3",
   "version": "3.9.12"
  }
 },
 "nbformat": 4,
 "nbformat_minor": 5
}
