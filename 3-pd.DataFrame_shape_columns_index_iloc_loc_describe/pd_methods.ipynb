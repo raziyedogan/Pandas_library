{
 "cells": [
  {
   "cell_type": "markdown",
   "id": "65cc5033",
   "metadata": {},
   "source": [
    "Pandas kütüphanesinin içerdiği fonksiyonlardan faydalanarak bir Veri Çerçevesini detaylı inceleyelim.\n",
    "\n",
    "Bir sözlük yapısı oluşturalım. Bu yapıdaki key değerleri sütun isimleri olmaktadır."
   ]
  },
  {
   "cell_type": "code",
   "execution_count": 1,
   "id": "d21b072e",
   "metadata": {},
   "outputs": [],
   "source": [
    "import pandas as pd"
   ]
  },
  {
   "cell_type": "code",
   "execution_count": 2,
   "id": "3f188e03",
   "metadata": {},
   "outputs": [],
   "source": [
    "veri = {\"isim\":[\"x\",\"Y\",\"Z\",\"W\"],\"yas\":[38,24,27,30],\"tutulan takim\":[\"A\",\"B\",\"C\",\"D\"],\"maas\":[5000,3150,3750,4000]}"
   ]
  },
  {
   "cell_type": "markdown",
   "id": "e889f912",
   "metadata": {},
   "source": [
    "Oluşturduğumuz veri isimli sözlük yapısını kullanarak df isimli bir veri çerçevesi oluşturalım."
   ]
  },
  {
   "cell_type": "code",
   "execution_count": 3,
   "id": "a0e063ab",
   "metadata": {},
   "outputs": [],
   "source": [
    "df = pd.DataFrame(veri)"
   ]
  },
  {
   "cell_type": "code",
   "execution_count": 4,
   "id": "87e2e86c",
   "metadata": {},
   "outputs": [
    {
     "data": {
      "text/html": [
       "<div>\n",
       "<style scoped>\n",
       "    .dataframe tbody tr th:only-of-type {\n",
       "        vertical-align: middle;\n",
       "    }\n",
       "\n",
       "    .dataframe tbody tr th {\n",
       "        vertical-align: top;\n",
       "    }\n",
       "\n",
       "    .dataframe thead th {\n",
       "        text-align: right;\n",
       "    }\n",
       "</style>\n",
       "<table border=\"1\" class=\"dataframe\">\n",
       "  <thead>\n",
       "    <tr style=\"text-align: right;\">\n",
       "      <th></th>\n",
       "      <th>isim</th>\n",
       "      <th>yas</th>\n",
       "      <th>tutulan takim</th>\n",
       "      <th>maas</th>\n",
       "    </tr>\n",
       "  </thead>\n",
       "  <tbody>\n",
       "    <tr>\n",
       "      <th>0</th>\n",
       "      <td>x</td>\n",
       "      <td>38</td>\n",
       "      <td>A</td>\n",
       "      <td>5000</td>\n",
       "    </tr>\n",
       "    <tr>\n",
       "      <th>1</th>\n",
       "      <td>Y</td>\n",
       "      <td>24</td>\n",
       "      <td>B</td>\n",
       "      <td>3150</td>\n",
       "    </tr>\n",
       "    <tr>\n",
       "      <th>2</th>\n",
       "      <td>Z</td>\n",
       "      <td>27</td>\n",
       "      <td>C</td>\n",
       "      <td>3750</td>\n",
       "    </tr>\n",
       "    <tr>\n",
       "      <th>3</th>\n",
       "      <td>W</td>\n",
       "      <td>30</td>\n",
       "      <td>D</td>\n",
       "      <td>4000</td>\n",
       "    </tr>\n",
       "  </tbody>\n",
       "</table>\n",
       "</div>"
      ],
      "text/plain": [
       "  isim  yas tutulan takim  maas\n",
       "0    x   38             A  5000\n",
       "1    Y   24             B  3150\n",
       "2    Z   27             C  3750\n",
       "3    W   30             D  4000"
      ]
     },
     "execution_count": 4,
     "metadata": {},
     "output_type": "execute_result"
    }
   ],
   "source": [
    "df"
   ]
  },
  {
   "cell_type": "markdown",
   "id": "c38d8afe",
   "metadata": {},
   "source": [
    "df isimli veri çerçevesinin boyutuna bakalım."
   ]
  },
  {
   "cell_type": "code",
   "execution_count": 5,
   "id": "61766e6b",
   "metadata": {},
   "outputs": [
    {
     "data": {
      "text/plain": [
       "(4, 4)"
      ]
     },
     "execution_count": 5,
     "metadata": {},
     "output_type": "execute_result"
    }
   ],
   "source": [
    "df.shape"
   ]
  },
  {
   "cell_type": "markdown",
   "id": "a2f432b2",
   "metadata": {},
   "source": [
    "shape metodunun çıktısından da anlaşılabileceği üzere df isimli veri çerçevesi 4 satır ve 4 sütundan oluşmaktadır."
   ]
  },
  {
   "cell_type": "code",
   "execution_count": 7,
   "id": "4e81168f",
   "metadata": {},
   "outputs": [
    {
     "name": "stdout",
     "output_type": "stream",
     "text": [
      "<class 'pandas.core.frame.DataFrame'>\n",
      "RangeIndex: 4 entries, 0 to 3\n",
      "Data columns (total 4 columns):\n",
      " #   Column         Non-Null Count  Dtype \n",
      "---  ------         --------------  ----- \n",
      " 0   isim           4 non-null      object\n",
      " 1   yas            4 non-null      int64 \n",
      " 2   tutulan takim  4 non-null      object\n",
      " 3   maas           4 non-null      int64 \n",
      "dtypes: int64(2), object(2)\n",
      "memory usage: 256.0+ bytes\n"
     ]
    }
   ],
   "source": [
    "df.info()"
   ]
  },
  {
   "cell_type": "markdown",
   "id": "793a244e",
   "metadata": {},
   "source": [
    "info metodu ile veri çerçevesi hakkında çeşitli bilgilere erişilmektedir. Her bir sütun içerisindeki null değer sayısını, sütun içerisinde bulunan değerlerin veri tipini, veri setinde bulunan sütunların veri tiplerinden kaç tane olduğuna dair toplam sayı, sütun isimleri gibi bilgiler info metodu ile elde edilebilmektedir. \n",
    "\n",
    "Çok fazla sample'den oluşan veri setlerinde, tüm verileri görüntüleyebilmemiz pek mümkün değildir. Dolayısıyla head() metodu ile default olarak ilk 5 satır görüntülenebilmektedir. Parametre olarak bir sayı verilmesi durumunda ise, belirlenen sayı kadar satır görüntülenebilmektedir."
   ]
  },
  {
   "cell_type": "code",
   "execution_count": 8,
   "id": "486e3263",
   "metadata": {},
   "outputs": [
    {
     "data": {
      "text/html": [
       "<div>\n",
       "<style scoped>\n",
       "    .dataframe tbody tr th:only-of-type {\n",
       "        vertical-align: middle;\n",
       "    }\n",
       "\n",
       "    .dataframe tbody tr th {\n",
       "        vertical-align: top;\n",
       "    }\n",
       "\n",
       "    .dataframe thead th {\n",
       "        text-align: right;\n",
       "    }\n",
       "</style>\n",
       "<table border=\"1\" class=\"dataframe\">\n",
       "  <thead>\n",
       "    <tr style=\"text-align: right;\">\n",
       "      <th></th>\n",
       "      <th>isim</th>\n",
       "      <th>yas</th>\n",
       "      <th>tutulan takim</th>\n",
       "      <th>maas</th>\n",
       "    </tr>\n",
       "  </thead>\n",
       "  <tbody>\n",
       "    <tr>\n",
       "      <th>0</th>\n",
       "      <td>x</td>\n",
       "      <td>38</td>\n",
       "      <td>A</td>\n",
       "      <td>5000</td>\n",
       "    </tr>\n",
       "    <tr>\n",
       "      <th>1</th>\n",
       "      <td>Y</td>\n",
       "      <td>24</td>\n",
       "      <td>B</td>\n",
       "      <td>3150</td>\n",
       "    </tr>\n",
       "    <tr>\n",
       "      <th>2</th>\n",
       "      <td>Z</td>\n",
       "      <td>27</td>\n",
       "      <td>C</td>\n",
       "      <td>3750</td>\n",
       "    </tr>\n",
       "    <tr>\n",
       "      <th>3</th>\n",
       "      <td>W</td>\n",
       "      <td>30</td>\n",
       "      <td>D</td>\n",
       "      <td>4000</td>\n",
       "    </tr>\n",
       "  </tbody>\n",
       "</table>\n",
       "</div>"
      ],
      "text/plain": [
       "  isim  yas tutulan takim  maas\n",
       "0    x   38             A  5000\n",
       "1    Y   24             B  3150\n",
       "2    Z   27             C  3750\n",
       "3    W   30             D  4000"
      ]
     },
     "execution_count": 8,
     "metadata": {},
     "output_type": "execute_result"
    }
   ],
   "source": [
    "df.head()"
   ]
  },
  {
   "cell_type": "markdown",
   "id": "77b8d30c",
   "metadata": {},
   "source": [
    "Veri setinde bulunan sütun isimlerini görüntüleyebilmek için .columns metodu kullanılabilir."
   ]
  },
  {
   "cell_type": "code",
   "execution_count": 9,
   "id": "ec502bd4",
   "metadata": {},
   "outputs": [
    {
     "data": {
      "text/plain": [
       "Index(['isim', 'yas', 'tutulan takim', 'maas'], dtype='object')"
      ]
     },
     "execution_count": 9,
     "metadata": {},
     "output_type": "execute_result"
    }
   ],
   "source": [
    "df.columns"
   ]
  },
  {
   "cell_type": "markdown",
   "id": "9c8660cc",
   "metadata": {},
   "source": [
    "Veri setinde bulunan satır isimlerini görüntüleyebilmek için .index metodu kullanılabilir."
   ]
  },
  {
   "cell_type": "code",
   "execution_count": 10,
   "id": "8bdb29d4",
   "metadata": {},
   "outputs": [
    {
     "data": {
      "text/plain": [
       "RangeIndex(start=0, stop=4, step=1)"
      ]
     },
     "execution_count": 10,
     "metadata": {},
     "output_type": "execute_result"
    }
   ],
   "source": [
    "df.index"
   ]
  },
  {
   "cell_type": "markdown",
   "id": "bc094dd8",
   "metadata": {},
   "source": [
    "Çıktıya bakıldığında satır isimlendirmesinde sayılar görülmektedir. Bu isimleri değiştirebilmemiz mümkündür."
   ]
  },
  {
   "cell_type": "code",
   "execution_count": 11,
   "id": "0a7b0408",
   "metadata": {},
   "outputs": [],
   "source": [
    "yeni_satir_isimleri = [\"satir1\",\"satir2\",\"satir3\",\"satir4\"]"
   ]
  },
  {
   "cell_type": "markdown",
   "id": "2b9f72ee",
   "metadata": {},
   "source": [
    "yeni_satir_isimleri listesinde satırlara vermek istediğimiz isimleri depoladık.Veri çerçevesinin index isimli özelliğine bu yeni isimleri eşitlemeliyiz. Böylelikle yeni satır isimleri veri çerçevesine aktarılacaktır."
   ]
  },
  {
   "cell_type": "code",
   "execution_count": 13,
   "id": "00dfa5f9",
   "metadata": {},
   "outputs": [],
   "source": [
    "df.index = yeni_satir_isimleri"
   ]
  },
  {
   "cell_type": "code",
   "execution_count": 14,
   "id": "304c5a73",
   "metadata": {},
   "outputs": [
    {
     "data": {
      "text/html": [
       "<div>\n",
       "<style scoped>\n",
       "    .dataframe tbody tr th:only-of-type {\n",
       "        vertical-align: middle;\n",
       "    }\n",
       "\n",
       "    .dataframe tbody tr th {\n",
       "        vertical-align: top;\n",
       "    }\n",
       "\n",
       "    .dataframe thead th {\n",
       "        text-align: right;\n",
       "    }\n",
       "</style>\n",
       "<table border=\"1\" class=\"dataframe\">\n",
       "  <thead>\n",
       "    <tr style=\"text-align: right;\">\n",
       "      <th></th>\n",
       "      <th>isim</th>\n",
       "      <th>yas</th>\n",
       "      <th>tutulan takim</th>\n",
       "      <th>maas</th>\n",
       "    </tr>\n",
       "  </thead>\n",
       "  <tbody>\n",
       "    <tr>\n",
       "      <th>satir1</th>\n",
       "      <td>x</td>\n",
       "      <td>38</td>\n",
       "      <td>A</td>\n",
       "      <td>5000</td>\n",
       "    </tr>\n",
       "    <tr>\n",
       "      <th>satir2</th>\n",
       "      <td>Y</td>\n",
       "      <td>24</td>\n",
       "      <td>B</td>\n",
       "      <td>3150</td>\n",
       "    </tr>\n",
       "    <tr>\n",
       "      <th>satir3</th>\n",
       "      <td>Z</td>\n",
       "      <td>27</td>\n",
       "      <td>C</td>\n",
       "      <td>3750</td>\n",
       "    </tr>\n",
       "    <tr>\n",
       "      <th>satir4</th>\n",
       "      <td>W</td>\n",
       "      <td>30</td>\n",
       "      <td>D</td>\n",
       "      <td>4000</td>\n",
       "    </tr>\n",
       "  </tbody>\n",
       "</table>\n",
       "</div>"
      ],
      "text/plain": [
       "       isim  yas tutulan takim  maas\n",
       "satir1    x   38             A  5000\n",
       "satir2    Y   24             B  3150\n",
       "satir3    Z   27             C  3750\n",
       "satir4    W   30             D  4000"
      ]
     },
     "execution_count": 14,
     "metadata": {},
     "output_type": "execute_result"
    }
   ],
   "source": [
    "df"
   ]
  },
  {
   "cell_type": "code",
   "execution_count": 15,
   "id": "e7483990",
   "metadata": {},
   "outputs": [
    {
     "data": {
      "text/plain": [
       "Index(['satir1', 'satir2', 'satir3', 'satir4'], dtype='object')"
      ]
     },
     "execution_count": 15,
     "metadata": {},
     "output_type": "execute_result"
    }
   ],
   "source": [
    "df.index"
   ]
  },
  {
   "cell_type": "markdown",
   "id": "c05ba7d9",
   "metadata": {},
   "source": [
    "Verideki istediğimiz bölgelere temelde iki yöntem ile erişebiliriz. \n",
    "\n",
    "    1. .iloc[]\n",
    "    \n",
    "    2. .loc[]\n",
    "    \n",
    "iloc[], sayılar ile kullanılmaktadır. loc[] ise stringler ile kullanılmaktadır.\n",
    "\n",
    "satir1 ve satir3 isimli satırların isim ve maas sütunlarına erişelim."
   ]
  },
  {
   "cell_type": "code",
   "execution_count": 16,
   "id": "63b4e997",
   "metadata": {},
   "outputs": [
    {
     "data": {
      "text/html": [
       "<div>\n",
       "<style scoped>\n",
       "    .dataframe tbody tr th:only-of-type {\n",
       "        vertical-align: middle;\n",
       "    }\n",
       "\n",
       "    .dataframe tbody tr th {\n",
       "        vertical-align: top;\n",
       "    }\n",
       "\n",
       "    .dataframe thead th {\n",
       "        text-align: right;\n",
       "    }\n",
       "</style>\n",
       "<table border=\"1\" class=\"dataframe\">\n",
       "  <thead>\n",
       "    <tr style=\"text-align: right;\">\n",
       "      <th></th>\n",
       "      <th>isim</th>\n",
       "      <th>maas</th>\n",
       "    </tr>\n",
       "  </thead>\n",
       "  <tbody>\n",
       "    <tr>\n",
       "      <th>satir1</th>\n",
       "      <td>x</td>\n",
       "      <td>5000</td>\n",
       "    </tr>\n",
       "    <tr>\n",
       "      <th>satir3</th>\n",
       "      <td>Z</td>\n",
       "      <td>3750</td>\n",
       "    </tr>\n",
       "  </tbody>\n",
       "</table>\n",
       "</div>"
      ],
      "text/plain": [
       "       isim  maas\n",
       "satir1    x  5000\n",
       "satir3    Z  3750"
      ]
     },
     "execution_count": 16,
     "metadata": {},
     "output_type": "execute_result"
    }
   ],
   "source": [
    "df.iloc[[0,2],[0,3]]"
   ]
  },
  {
   "cell_type": "markdown",
   "id": "03ce6a77",
   "metadata": {},
   "source": [
    "Aynı işlemi loc yöntemi ile gerçekleştirelim."
   ]
  },
  {
   "cell_type": "code",
   "execution_count": 17,
   "id": "741f4a08",
   "metadata": {},
   "outputs": [
    {
     "data": {
      "text/html": [
       "<div>\n",
       "<style scoped>\n",
       "    .dataframe tbody tr th:only-of-type {\n",
       "        vertical-align: middle;\n",
       "    }\n",
       "\n",
       "    .dataframe tbody tr th {\n",
       "        vertical-align: top;\n",
       "    }\n",
       "\n",
       "    .dataframe thead th {\n",
       "        text-align: right;\n",
       "    }\n",
       "</style>\n",
       "<table border=\"1\" class=\"dataframe\">\n",
       "  <thead>\n",
       "    <tr style=\"text-align: right;\">\n",
       "      <th></th>\n",
       "      <th>isim</th>\n",
       "      <th>maas</th>\n",
       "    </tr>\n",
       "  </thead>\n",
       "  <tbody>\n",
       "    <tr>\n",
       "      <th>satir1</th>\n",
       "      <td>x</td>\n",
       "      <td>5000</td>\n",
       "    </tr>\n",
       "    <tr>\n",
       "      <th>satir3</th>\n",
       "      <td>Z</td>\n",
       "      <td>3750</td>\n",
       "    </tr>\n",
       "  </tbody>\n",
       "</table>\n",
       "</div>"
      ],
      "text/plain": [
       "       isim  maas\n",
       "satir1    x  5000\n",
       "satir3    Z  3750"
      ]
     },
     "execution_count": 17,
     "metadata": {},
     "output_type": "execute_result"
    }
   ],
   "source": [
    "df.loc[[\"satir1\",\"satir3\"],[\"isim\",\"maas\"]]"
   ]
  },
  {
   "cell_type": "markdown",
   "id": "f65f3141",
   "metadata": {},
   "source": [
    "iloc yöntemi ile tutulan takım sütunundaki tüm verileri alalım."
   ]
  },
  {
   "cell_type": "code",
   "execution_count": 18,
   "id": "1254528f",
   "metadata": {},
   "outputs": [
    {
     "data": {
      "text/plain": [
       "satir1    A\n",
       "satir2    B\n",
       "satir3    C\n",
       "satir4    D\n",
       "Name: tutulan takim, dtype: object"
      ]
     },
     "execution_count": 18,
     "metadata": {},
     "output_type": "execute_result"
    }
   ],
   "source": [
    "df.iloc[:,2]"
   ]
  },
  {
   "cell_type": "markdown",
   "id": "bef60071",
   "metadata": {},
   "source": [
    "satir2 isimli satırın tüm sütun değerlerini alalım."
   ]
  },
  {
   "cell_type": "code",
   "execution_count": 21,
   "id": "6e04b590",
   "metadata": {},
   "outputs": [
    {
     "data": {
      "text/plain": [
       "isim                Y\n",
       "yas                24\n",
       "tutulan takim       B\n",
       "maas             3150\n",
       "Name: satir2, dtype: object"
      ]
     },
     "execution_count": 21,
     "metadata": {},
     "output_type": "execute_result"
    }
   ],
   "source": [
    "df.iloc[1,:]"
   ]
  },
  {
   "cell_type": "markdown",
   "id": "240a95d4",
   "metadata": {},
   "source": [
    "1. ve son sütun indeksi arasındaki tüm değerleri alalım."
   ]
  },
  {
   "cell_type": "code",
   "execution_count": 22,
   "id": "b6412c6a",
   "metadata": {},
   "outputs": [
    {
     "data": {
      "text/html": [
       "<div>\n",
       "<style scoped>\n",
       "    .dataframe tbody tr th:only-of-type {\n",
       "        vertical-align: middle;\n",
       "    }\n",
       "\n",
       "    .dataframe tbody tr th {\n",
       "        vertical-align: top;\n",
       "    }\n",
       "\n",
       "    .dataframe thead th {\n",
       "        text-align: right;\n",
       "    }\n",
       "</style>\n",
       "<table border=\"1\" class=\"dataframe\">\n",
       "  <thead>\n",
       "    <tr style=\"text-align: right;\">\n",
       "      <th></th>\n",
       "      <th>yas</th>\n",
       "      <th>tutulan takim</th>\n",
       "      <th>maas</th>\n",
       "    </tr>\n",
       "  </thead>\n",
       "  <tbody>\n",
       "    <tr>\n",
       "      <th>satir1</th>\n",
       "      <td>38</td>\n",
       "      <td>A</td>\n",
       "      <td>5000</td>\n",
       "    </tr>\n",
       "    <tr>\n",
       "      <th>satir2</th>\n",
       "      <td>24</td>\n",
       "      <td>B</td>\n",
       "      <td>3150</td>\n",
       "    </tr>\n",
       "    <tr>\n",
       "      <th>satir3</th>\n",
       "      <td>27</td>\n",
       "      <td>C</td>\n",
       "      <td>3750</td>\n",
       "    </tr>\n",
       "    <tr>\n",
       "      <th>satir4</th>\n",
       "      <td>30</td>\n",
       "      <td>D</td>\n",
       "      <td>4000</td>\n",
       "    </tr>\n",
       "  </tbody>\n",
       "</table>\n",
       "</div>"
      ],
      "text/plain": [
       "        yas tutulan takim  maas\n",
       "satir1   38             A  5000\n",
       "satir2   24             B  3150\n",
       "satir3   27             C  3750\n",
       "satir4   30             D  4000"
      ]
     },
     "execution_count": 22,
     "metadata": {},
     "output_type": "execute_result"
    }
   ],
   "source": [
    "df.iloc[:,1:]"
   ]
  },
  {
   "cell_type": "markdown",
   "id": "127d3c43",
   "metadata": {},
   "source": [
    "Veri setindeki verilerin temel istatistiksel detaylarını describe metodu ile inceleyelim."
   ]
  },
  {
   "cell_type": "code",
   "execution_count": 23,
   "id": "07ffc251",
   "metadata": {},
   "outputs": [
    {
     "data": {
      "text/html": [
       "<div>\n",
       "<style scoped>\n",
       "    .dataframe tbody tr th:only-of-type {\n",
       "        vertical-align: middle;\n",
       "    }\n",
       "\n",
       "    .dataframe tbody tr th {\n",
       "        vertical-align: top;\n",
       "    }\n",
       "\n",
       "    .dataframe thead th {\n",
       "        text-align: right;\n",
       "    }\n",
       "</style>\n",
       "<table border=\"1\" class=\"dataframe\">\n",
       "  <thead>\n",
       "    <tr style=\"text-align: right;\">\n",
       "      <th></th>\n",
       "      <th>yas</th>\n",
       "      <th>maas</th>\n",
       "    </tr>\n",
       "  </thead>\n",
       "  <tbody>\n",
       "    <tr>\n",
       "      <th>count</th>\n",
       "      <td>4.000000</td>\n",
       "      <td>4.000000</td>\n",
       "    </tr>\n",
       "    <tr>\n",
       "      <th>mean</th>\n",
       "      <td>29.750000</td>\n",
       "      <td>3975.000000</td>\n",
       "    </tr>\n",
       "    <tr>\n",
       "      <th>std</th>\n",
       "      <td>6.020797</td>\n",
       "      <td>770.822072</td>\n",
       "    </tr>\n",
       "    <tr>\n",
       "      <th>min</th>\n",
       "      <td>24.000000</td>\n",
       "      <td>3150.000000</td>\n",
       "    </tr>\n",
       "    <tr>\n",
       "      <th>25%</th>\n",
       "      <td>26.250000</td>\n",
       "      <td>3600.000000</td>\n",
       "    </tr>\n",
       "    <tr>\n",
       "      <th>50%</th>\n",
       "      <td>28.500000</td>\n",
       "      <td>3875.000000</td>\n",
       "    </tr>\n",
       "    <tr>\n",
       "      <th>75%</th>\n",
       "      <td>32.000000</td>\n",
       "      <td>4250.000000</td>\n",
       "    </tr>\n",
       "    <tr>\n",
       "      <th>max</th>\n",
       "      <td>38.000000</td>\n",
       "      <td>5000.000000</td>\n",
       "    </tr>\n",
       "  </tbody>\n",
       "</table>\n",
       "</div>"
      ],
      "text/plain": [
       "             yas         maas\n",
       "count   4.000000     4.000000\n",
       "mean   29.750000  3975.000000\n",
       "std     6.020797   770.822072\n",
       "min    24.000000  3150.000000\n",
       "25%    26.250000  3600.000000\n",
       "50%    28.500000  3875.000000\n",
       "75%    32.000000  4250.000000\n",
       "max    38.000000  5000.000000"
      ]
     },
     "execution_count": 23,
     "metadata": {},
     "output_type": "execute_result"
    }
   ],
   "source": [
    "df.describe()"
   ]
  },
  {
   "cell_type": "markdown",
   "id": "ad79c424",
   "metadata": {},
   "source": [
    "Dikkatinizi çekmek isterim ki, istatistiksel sonuçlar sadece sayısal değer içeren sütunlar için elde edilecektir. Çıktıdaki satırlar incelendiğinde, her bir sütun için eleman sayısı, ortalama değer, standart sapma, en küçük değer ve en büyük değerler arasındaki dağılım gözükmektedir."
   ]
  }
 ],
 "metadata": {
  "kernelspec": {
   "display_name": "Python 3 (ipykernel)",
   "language": "python",
   "name": "python3"
  },
  "language_info": {
   "codemirror_mode": {
    "name": "ipython",
    "version": 3
   },
   "file_extension": ".py",
   "mimetype": "text/x-python",
   "name": "python",
   "nbconvert_exporter": "python",
   "pygments_lexer": "ipython3",
   "version": "3.9.12"
  }
 },
 "nbformat": 4,
 "nbformat_minor": 5
}
